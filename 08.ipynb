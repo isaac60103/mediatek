{
  "nbformat": 4,
  "nbformat_minor": 0,
  "metadata": {
    "colab": {
      "name": "Untitled11.ipynb",
      "provenance": [],
      "collapsed_sections": []
    },
    "kernelspec": {
      "name": "python3",
      "display_name": "Python 3"
    },
    "language_info": {
      "name": "python"
    },
    "accelerator": "GPU"
  },
  "cells": [
    {
      "cell_type": "code",
      "metadata": {
        "colab": {
          "base_uri": "https://localhost:8080/"
        },
        "id": "jptXMX5FXwfk",
        "outputId": "2fd27895-d657-4af3-ceab-66cf87c9640d"
      },
      "source": [
        "!git clone https://github.com/zzh8829/yolov3-tf2.git"
      ],
      "execution_count": 1,
      "outputs": [
        {
          "output_type": "stream",
          "text": [
            "Cloning into 'yolov3-tf2'...\n",
            "remote: Enumerating objects: 419, done.\u001b[K\n",
            "remote: Counting objects: 100% (7/7), done.\u001b[K\n",
            "remote: Compressing objects: 100% (7/7), done.\u001b[K\n",
            "remote: Total 419 (delta 2), reused 0 (delta 0), pack-reused 412\u001b[K\n",
            "Receiving objects: 100% (419/419), 4.24 MiB | 33.38 MiB/s, done.\n",
            "Resolving deltas: 100% (239/239), done.\n"
          ],
          "name": "stdout"
        }
      ]
    },
    {
      "cell_type": "code",
      "metadata": {
        "colab": {
          "base_uri": "https://localhost:8080/"
        },
        "id": "UTLrE84uX3jV",
        "outputId": "bf70f1eb-a597-463e-a925-4767950a378e"
      },
      "source": [
        "!wget https://pjreddie.com/media/files/yolov3.weights -O ./yolov3-tf2/data/yolov3.weights"
      ],
      "execution_count": 2,
      "outputs": [
        {
          "output_type": "stream",
          "text": [
            "--2021-07-25 11:52:38--  https://pjreddie.com/media/files/yolov3.weights\n",
            "Resolving pjreddie.com (pjreddie.com)... 128.208.4.108\n",
            "Connecting to pjreddie.com (pjreddie.com)|128.208.4.108|:443... connected.\n",
            "HTTP request sent, awaiting response... 200 OK\n",
            "Length: 248007048 (237M) [application/octet-stream]\n",
            "Saving to: ‘./yolov3-tf2/data/yolov3.weights’\n",
            "\n",
            "./yolov3-tf2/data/y 100%[===================>] 236.52M  44.1MB/s    in 5.7s    \n",
            "\n",
            "2021-07-25 11:52:44 (41.2 MB/s) - ‘./yolov3-tf2/data/yolov3.weights’ saved [248007048/248007048]\n",
            "\n"
          ],
          "name": "stdout"
        }
      ]
    },
    {
      "cell_type": "code",
      "metadata": {
        "colab": {
          "base_uri": "https://localhost:8080/"
        },
        "id": "nXzhUj3faNrX",
        "outputId": "0b515f9a-c6c0-4407-8717-2608339d4ca2"
      },
      "source": [
        "!python ./yolov3-tf2/convert.py --weights ./yolov3-tf2/data/yolov3.weights --output ./yolov3-tf2/checkpoints/yolov3.tf"
      ],
      "execution_count": 3,
      "outputs": [
        {
          "output_type": "stream",
          "text": [
            "2021-07-25 11:52:44.758491: I tensorflow/stream_executor/platform/default/dso_loader.cc:53] Successfully opened dynamic library libcudart.so.11.0\n",
            "2021-07-25 11:52:47.136770: I tensorflow/stream_executor/platform/default/dso_loader.cc:53] Successfully opened dynamic library libcuda.so.1\n",
            "2021-07-25 11:52:47.238120: E tensorflow/stream_executor/cuda/cuda_driver.cc:328] failed call to cuInit: CUDA_ERROR_NO_DEVICE: no CUDA-capable device is detected\n",
            "2021-07-25 11:52:47.238188: I tensorflow/stream_executor/cuda/cuda_diagnostics.cc:156] kernel driver does not appear to be running on this host (062d73972d07): /proc/driver/nvidia/version does not exist\n",
            "WARNING:tensorflow:From /usr/local/lib/python3.7/dist-packages/tensorflow/python/ops/array_ops.py:5049: calling gather (from tensorflow.python.ops.array_ops) with validate_indices is deprecated and will be removed in a future version.\n",
            "Instructions for updating:\n",
            "The `validate_indices` argument has no effect. Indices are always validated on CPU and never validated on GPU.\n",
            "W0725 11:52:49.967080 139705193412480 deprecation.py:534] From /usr/local/lib/python3.7/dist-packages/tensorflow/python/ops/array_ops.py:5049: calling gather (from tensorflow.python.ops.array_ops) with validate_indices is deprecated and will be removed in a future version.\n",
            "Instructions for updating:\n",
            "The `validate_indices` argument has no effect. Indices are always validated on CPU and never validated on GPU.\n",
            "Model: \"yolov3\"\n",
            "__________________________________________________________________________________________________\n",
            "Layer (type)                    Output Shape         Param #     Connected to                     \n",
            "==================================================================================================\n",
            "input (InputLayer)              [(None, None, None,  0                                            \n",
            "__________________________________________________________________________________________________\n",
            "yolo_darknet (Functional)       ((None, None, None,  40620640    input[0][0]                      \n",
            "__________________________________________________________________________________________________\n",
            "yolo_conv_0 (Functional)        (None, None, None, 5 11024384    yolo_darknet[0][2]               \n",
            "__________________________________________________________________________________________________\n",
            "yolo_conv_1 (Functional)        (None, None, None, 2 2957312     yolo_conv_0[0][0]                \n",
            "                                                                 yolo_darknet[0][1]               \n",
            "__________________________________________________________________________________________________\n",
            "yolo_conv_2 (Functional)        (None, None, None, 1 741376      yolo_conv_1[0][0]                \n",
            "                                                                 yolo_darknet[0][0]               \n",
            "__________________________________________________________________________________________________\n",
            "yolo_output_0 (Functional)      (None, None, None, 3 4984063     yolo_conv_0[0][0]                \n",
            "__________________________________________________________________________________________________\n",
            "yolo_output_1 (Functional)      (None, None, None, 3 1312511     yolo_conv_1[0][0]                \n",
            "__________________________________________________________________________________________________\n",
            "yolo_output_2 (Functional)      (None, None, None, 3 361471      yolo_conv_2[0][0]                \n",
            "__________________________________________________________________________________________________\n",
            "yolo_boxes_0 (Lambda)           ((None, None, None,  0           yolo_output_0[0][0]              \n",
            "__________________________________________________________________________________________________\n",
            "yolo_boxes_1 (Lambda)           ((None, None, None,  0           yolo_output_1[0][0]              \n",
            "__________________________________________________________________________________________________\n",
            "yolo_boxes_2 (Lambda)           ((None, None, None,  0           yolo_output_2[0][0]              \n",
            "__________________________________________________________________________________________________\n",
            "yolo_nms (Lambda)               ((1, None, 4), (1, N 0           yolo_boxes_0[0][0]               \n",
            "                                                                 yolo_boxes_0[0][1]               \n",
            "                                                                 yolo_boxes_0[0][2]               \n",
            "                                                                 yolo_boxes_1[0][0]               \n",
            "                                                                 yolo_boxes_1[0][1]               \n",
            "                                                                 yolo_boxes_1[0][2]               \n",
            "                                                                 yolo_boxes_2[0][0]               \n",
            "                                                                 yolo_boxes_2[0][1]               \n",
            "                                                                 yolo_boxes_2[0][2]               \n",
            "==================================================================================================\n",
            "Total params: 62,001,757\n",
            "Trainable params: 61,949,149\n",
            "Non-trainable params: 52,608\n",
            "__________________________________________________________________________________________________\n",
            "I0725 11:52:49.995655 139705193412480 convert.py:24] model created\n",
            "I0725 11:52:49.996906 139705193412480 utils.py:45] yolo_darknet/conv2d bn\n",
            "I0725 11:52:49.998858 139705193412480 utils.py:45] yolo_darknet/conv2d_1 bn\n",
            "I0725 11:52:50.000634 139705193412480 utils.py:45] yolo_darknet/conv2d_2 bn\n",
            "I0725 11:52:50.002328 139705193412480 utils.py:45] yolo_darknet/conv2d_3 bn\n",
            "I0725 11:52:50.004217 139705193412480 utils.py:45] yolo_darknet/conv2d_4 bn\n",
            "I0725 11:52:50.006144 139705193412480 utils.py:45] yolo_darknet/conv2d_5 bn\n",
            "I0725 11:52:50.007825 139705193412480 utils.py:45] yolo_darknet/conv2d_6 bn\n",
            "I0725 11:52:50.009724 139705193412480 utils.py:45] yolo_darknet/conv2d_7 bn\n",
            "I0725 11:52:50.011366 139705193412480 utils.py:45] yolo_darknet/conv2d_8 bn\n",
            "I0725 11:52:50.013239 139705193412480 utils.py:45] yolo_darknet/conv2d_9 bn\n",
            "I0725 11:52:50.016277 139705193412480 utils.py:45] yolo_darknet/conv2d_10 bn\n",
            "I0725 11:52:50.018047 139705193412480 utils.py:45] yolo_darknet/conv2d_11 bn\n",
            "I0725 11:52:50.021041 139705193412480 utils.py:45] yolo_darknet/conv2d_12 bn\n",
            "I0725 11:52:50.022768 139705193412480 utils.py:45] yolo_darknet/conv2d_13 bn\n",
            "I0725 11:52:50.025816 139705193412480 utils.py:45] yolo_darknet/conv2d_14 bn\n",
            "I0725 11:52:50.027565 139705193412480 utils.py:45] yolo_darknet/conv2d_15 bn\n",
            "I0725 11:52:50.030425 139705193412480 utils.py:45] yolo_darknet/conv2d_16 bn\n",
            "I0725 11:52:50.032150 139705193412480 utils.py:45] yolo_darknet/conv2d_17 bn\n",
            "I0725 11:52:50.035093 139705193412480 utils.py:45] yolo_darknet/conv2d_18 bn\n",
            "I0725 11:52:50.036806 139705193412480 utils.py:45] yolo_darknet/conv2d_19 bn\n",
            "I0725 11:52:50.039670 139705193412480 utils.py:45] yolo_darknet/conv2d_20 bn\n",
            "I0725 11:52:50.041399 139705193412480 utils.py:45] yolo_darknet/conv2d_21 bn\n",
            "I0725 11:52:50.044336 139705193412480 utils.py:45] yolo_darknet/conv2d_22 bn\n",
            "I0725 11:52:50.046065 139705193412480 utils.py:45] yolo_darknet/conv2d_23 bn\n",
            "I0725 11:52:50.048949 139705193412480 utils.py:45] yolo_darknet/conv2d_24 bn\n",
            "I0725 11:52:50.050675 139705193412480 utils.py:45] yolo_darknet/conv2d_25 bn\n",
            "I0725 11:52:50.053533 139705193412480 utils.py:45] yolo_darknet/conv2d_26 bn\n",
            "I0725 11:52:50.061237 139705193412480 utils.py:45] yolo_darknet/conv2d_27 bn\n",
            "I0725 11:52:50.063790 139705193412480 utils.py:45] yolo_darknet/conv2d_28 bn\n",
            "I0725 11:52:50.071463 139705193412480 utils.py:45] yolo_darknet/conv2d_29 bn\n",
            "I0725 11:52:50.073796 139705193412480 utils.py:45] yolo_darknet/conv2d_30 bn\n",
            "I0725 11:52:50.081043 139705193412480 utils.py:45] yolo_darknet/conv2d_31 bn\n",
            "I0725 11:52:50.083391 139705193412480 utils.py:45] yolo_darknet/conv2d_32 bn\n",
            "I0725 11:52:50.090554 139705193412480 utils.py:45] yolo_darknet/conv2d_33 bn\n",
            "I0725 11:52:50.092898 139705193412480 utils.py:45] yolo_darknet/conv2d_34 bn\n",
            "I0725 11:52:50.100037 139705193412480 utils.py:45] yolo_darknet/conv2d_35 bn\n",
            "I0725 11:52:50.102340 139705193412480 utils.py:45] yolo_darknet/conv2d_36 bn\n",
            "I0725 11:52:50.109423 139705193412480 utils.py:45] yolo_darknet/conv2d_37 bn\n",
            "I0725 11:52:50.111826 139705193412480 utils.py:45] yolo_darknet/conv2d_38 bn\n",
            "I0725 11:52:50.119079 139705193412480 utils.py:45] yolo_darknet/conv2d_39 bn\n",
            "I0725 11:52:50.121393 139705193412480 utils.py:45] yolo_darknet/conv2d_40 bn\n",
            "I0725 11:52:50.128367 139705193412480 utils.py:45] yolo_darknet/conv2d_41 bn\n",
            "I0725 11:52:50.130594 139705193412480 utils.py:45] yolo_darknet/conv2d_42 bn\n",
            "I0725 11:52:50.137464 139705193412480 utils.py:45] yolo_darknet/conv2d_43 bn\n",
            "I0725 11:52:50.183486 139705193412480 utils.py:45] yolo_darknet/conv2d_44 bn\n",
            "I0725 11:52:50.189095 139705193412480 utils.py:45] yolo_darknet/conv2d_45 bn\n",
            "I0725 11:52:50.228030 139705193412480 utils.py:45] yolo_darknet/conv2d_46 bn\n",
            "I0725 11:52:50.233398 139705193412480 utils.py:45] yolo_darknet/conv2d_47 bn\n",
            "I0725 11:52:50.274694 139705193412480 utils.py:45] yolo_darknet/conv2d_48 bn\n",
            "I0725 11:52:50.280054 139705193412480 utils.py:45] yolo_darknet/conv2d_49 bn\n",
            "I0725 11:52:50.316919 139705193412480 utils.py:45] yolo_darknet/conv2d_50 bn\n",
            "I0725 11:52:50.322327 139705193412480 utils.py:45] yolo_darknet/conv2d_51 bn\n",
            "I0725 11:52:50.357205 139705193412480 utils.py:45] yolo_conv_0/conv2d_52 bn\n",
            "I0725 11:52:50.362118 139705193412480 utils.py:45] yolo_conv_0/conv2d_53 bn\n",
            "I0725 11:52:50.400290 139705193412480 utils.py:45] yolo_conv_0/conv2d_54 bn\n",
            "I0725 11:52:50.405228 139705193412480 utils.py:45] yolo_conv_0/conv2d_55 bn\n",
            "I0725 11:52:50.446769 139705193412480 utils.py:45] yolo_conv_0/conv2d_56 bn\n",
            "I0725 11:52:50.451800 139705193412480 utils.py:45] yolo_output_0/conv2d_57 bn\n",
            "I0725 11:52:50.491335 139705193412480 utils.py:45] yolo_output_0/conv2d_58 bias\n",
            "I0725 11:52:50.493519 139705193412480 utils.py:45] yolo_conv_1/conv2d_59 bn\n",
            "I0725 11:52:50.495156 139705193412480 utils.py:45] yolo_conv_1/conv2d_60 bn\n",
            "I0725 11:52:50.496866 139705193412480 utils.py:45] yolo_conv_1/conv2d_61 bn\n",
            "I0725 11:52:50.504770 139705193412480 utils.py:45] yolo_conv_1/conv2d_62 bn\n",
            "I0725 11:52:50.506672 139705193412480 utils.py:45] yolo_conv_1/conv2d_63 bn\n",
            "I0725 11:52:50.513286 139705193412480 utils.py:45] yolo_conv_1/conv2d_64 bn\n",
            "I0725 11:52:50.514853 139705193412480 utils.py:45] yolo_output_1/conv2d_65 bn\n",
            "I0725 11:52:50.520786 139705193412480 utils.py:45] yolo_output_1/conv2d_66 bias\n",
            "I0725 11:52:50.522176 139705193412480 utils.py:45] yolo_conv_2/conv2d_67 bn\n",
            "I0725 11:52:50.523329 139705193412480 utils.py:45] yolo_conv_2/conv2d_68 bn\n",
            "I0725 11:52:50.524507 139705193412480 utils.py:45] yolo_conv_2/conv2d_69 bn\n",
            "I0725 11:52:50.526815 139705193412480 utils.py:45] yolo_conv_2/conv2d_70 bn\n",
            "I0725 11:52:50.527923 139705193412480 utils.py:45] yolo_conv_2/conv2d_71 bn\n",
            "I0725 11:52:50.530104 139705193412480 utils.py:45] yolo_conv_2/conv2d_72 bn\n",
            "I0725 11:52:50.531194 139705193412480 utils.py:45] yolo_output_2/conv2d_73 bn\n",
            "I0725 11:52:50.533295 139705193412480 utils.py:45] yolo_output_2/conv2d_74 bias\n",
            "I0725 11:52:50.534362 139705193412480 convert.py:27] weights loaded\n",
            "I0725 11:52:51.728591 139705193412480 convert.py:31] sanity check passed\n",
            "I0725 11:52:52.398079 139705193412480 convert.py:34] weights saved\n"
          ],
          "name": "stdout"
        }
      ]
    },
    {
      "cell_type": "code",
      "metadata": {
        "colab": {
          "base_uri": "https://localhost:8080/"
        },
        "id": "_9ygVcngYLqT",
        "outputId": "c122a759-0940-42cb-a85a-dbcf3a320282"
      },
      "source": [
        "!python ./yolov3-tf2/detect.py --weights ./yolov3-tf2/checkpoints/yolov3.tf --image ./yolov3-tf2/data/meme.jpg --classes ./yolov3-tf2/data/coco.names"
      ],
      "execution_count": 4,
      "outputs": [
        {
          "output_type": "stream",
          "text": [
            "2021-07-25 11:52:53.443643: I tensorflow/stream_executor/platform/default/dso_loader.cc:53] Successfully opened dynamic library libcudart.so.11.0\n",
            "2021-07-25 11:52:55.086605: I tensorflow/stream_executor/platform/default/dso_loader.cc:53] Successfully opened dynamic library libcuda.so.1\n",
            "2021-07-25 11:52:55.098803: E tensorflow/stream_executor/cuda/cuda_driver.cc:328] failed call to cuInit: CUDA_ERROR_NO_DEVICE: no CUDA-capable device is detected\n",
            "2021-07-25 11:52:55.098876: I tensorflow/stream_executor/cuda/cuda_diagnostics.cc:156] kernel driver does not appear to be running on this host (062d73972d07): /proc/driver/nvidia/version does not exist\n",
            "WARNING:tensorflow:From /usr/local/lib/python3.7/dist-packages/tensorflow/python/ops/array_ops.py:5049: calling gather (from tensorflow.python.ops.array_ops) with validate_indices is deprecated and will be removed in a future version.\n",
            "Instructions for updating:\n",
            "The `validate_indices` argument has no effect. Indices are always validated on CPU and never validated on GPU.\n",
            "W0725 11:52:57.690353 140629601740672 deprecation.py:534] From /usr/local/lib/python3.7/dist-packages/tensorflow/python/ops/array_ops.py:5049: calling gather (from tensorflow.python.ops.array_ops) with validate_indices is deprecated and will be removed in a future version.\n",
            "Instructions for updating:\n",
            "The `validate_indices` argument has no effect. Indices are always validated on CPU and never validated on GPU.\n",
            "I0725 11:52:58.649125 140629601740672 detect.py:35] weights loaded\n",
            "I0725 11:52:58.649553 140629601740672 detect.py:38] classes loaded\n",
            "I0725 11:52:59.975945 140629601740672 detect.py:55] time: 1.2910265922546387\n",
            "I0725 11:52:59.976127 140629601740672 detect.py:57] detections:\n",
            "I0725 11:52:59.978046 140629601740672 detect.py:61] \tcup, 0.9980730414390564, [0.1426622  0.52777606 0.27184254 0.65748256]\n",
            "I0725 11:52:59.979200 140629601740672 detect.py:61] \tperson, 0.9976975321769714, [0.28982916 0.0985465  0.95846486 0.9202168 ]\n",
            "I0725 11:52:59.980276 140629601740672 detect.py:61] \tlaptop, 0.9599871039390564, [-0.01710653  0.3949369   0.5229728   0.7962775 ]\n",
            "I0725 11:52:59.981304 140629601740672 detect.py:61] \tapple, 0.9081622362136841, [0.13114461 0.77143586 0.22893354 0.90729535]\n",
            "I0725 11:52:59.982336 140629601740672 detect.py:61] \tcell phone, 0.7321369051933289, [0.18850096 0.87569416 0.33501852 0.9422209 ]\n",
            "I0725 11:52:59.983367 140629601740672 detect.py:61] \tclock, 0.6700010299682617, [0.4010809  0.2124461  0.49267417 0.35021502]\n",
            "I0725 11:52:59.984387 140629601740672 detect.py:61] \tcup, 0.5366386771202087, [0.1508823  0.52855617 0.25541586 0.66439587]\n",
            "I0725 11:52:59.985370 140629601740672 detect.py:61] \tchair, 0.5001126527786255, [0.2950731  0.30677187 0.9998861  0.9955944 ]\n",
            "I0725 11:53:00.133281 140629601740672 detect.py:66] output saved to: ./output.jpg\n"
          ],
          "name": "stdout"
        }
      ]
    },
    {
      "cell_type": "code",
      "metadata": {
        "colab": {
          "base_uri": "https://localhost:8080/"
        },
        "id": "ZeUDZptVc84u",
        "outputId": "62d90a75-1eb0-47d5-e69b-905acb968537"
      },
      "source": [
        "!wget -O ./may.jpg https://pgw.udn.com.tw/gw/photo.php?u=https://uc.udn.com.tw/photo/2020/12/24/realtime/9945153.jpg&x=0&y=0&sw=0&sh=0&sl=W&fw=1050"
      ],
      "execution_count": 5,
      "outputs": [
        {
          "output_type": "stream",
          "text": [
            "--2021-07-25 11:53:00--  https://pgw.udn.com.tw/gw/photo.php?u=https://uc.udn.com.tw/photo/2020/12/24/realtime/9945153.jpg\n",
            "Resolving pgw.udn.com.tw (pgw.udn.com.tw)... 152.199.5.110\n",
            "Connecting to pgw.udn.com.tw (pgw.udn.com.tw)|152.199.5.110|:443... connected.\n",
            "HTTP request sent, awaiting response... 200 OK\n",
            "Length: 67597 (66K) [image/jpeg]\n",
            "Saving to: ‘./may.jpg’\n",
            "\n",
            "\r./may.jpg             0%[                    ]       0  --.-KB/s               \r./may.jpg           100%[===================>]  66.01K  --.-KB/s    in 0.002s  \n",
            "\n",
            "2021-07-25 11:53:00 (35.8 MB/s) - ‘./may.jpg’ saved [67597/67597]\n",
            "\n"
          ],
          "name": "stdout"
        }
      ]
    },
    {
      "cell_type": "code",
      "metadata": {
        "colab": {
          "base_uri": "https://localhost:8080/"
        },
        "id": "HrPp7kjEYcQp",
        "outputId": "019d55b9-9493-4b91-ea38-db3d0df33962"
      },
      "source": [
        "!python ./yolov3-tf2/detect.py --weights ./yolov3-tf2/checkpoints/yolov3.tf --image ./may.jpg --classes ./yolov3-tf2/data/coco.names"
      ],
      "execution_count": 6,
      "outputs": [
        {
          "output_type": "stream",
          "text": [
            "2021-07-25 11:53:01.281278: I tensorflow/stream_executor/platform/default/dso_loader.cc:53] Successfully opened dynamic library libcudart.so.11.0\n",
            "2021-07-25 11:53:02.919732: I tensorflow/stream_executor/platform/default/dso_loader.cc:53] Successfully opened dynamic library libcuda.so.1\n",
            "2021-07-25 11:53:02.931532: E tensorflow/stream_executor/cuda/cuda_driver.cc:328] failed call to cuInit: CUDA_ERROR_NO_DEVICE: no CUDA-capable device is detected\n",
            "2021-07-25 11:53:02.931585: I tensorflow/stream_executor/cuda/cuda_diagnostics.cc:156] kernel driver does not appear to be running on this host (062d73972d07): /proc/driver/nvidia/version does not exist\n",
            "WARNING:tensorflow:From /usr/local/lib/python3.7/dist-packages/tensorflow/python/ops/array_ops.py:5049: calling gather (from tensorflow.python.ops.array_ops) with validate_indices is deprecated and will be removed in a future version.\n",
            "Instructions for updating:\n",
            "The `validate_indices` argument has no effect. Indices are always validated on CPU and never validated on GPU.\n",
            "W0725 11:53:05.583665 140501020903296 deprecation.py:534] From /usr/local/lib/python3.7/dist-packages/tensorflow/python/ops/array_ops.py:5049: calling gather (from tensorflow.python.ops.array_ops) with validate_indices is deprecated and will be removed in a future version.\n",
            "Instructions for updating:\n",
            "The `validate_indices` argument has no effect. Indices are always validated on CPU and never validated on GPU.\n",
            "I0725 11:53:06.524581 140501020903296 detect.py:35] weights loaded\n",
            "I0725 11:53:06.525009 140501020903296 detect.py:38] classes loaded\n",
            "I0725 11:53:07.816665 140501020903296 detect.py:55] time: 1.2850532531738281\n",
            "I0725 11:53:07.816867 140501020903296 detect.py:57] detections:\n",
            "I0725 11:53:07.818363 140501020903296 detect.py:61] \tperson, 0.9978170990943909, [0.24406412 0.24213377 0.3952783  0.95390487]\n",
            "I0725 11:53:07.819448 140501020903296 detect.py:61] \tperson, 0.9967985153198242, [0.01982393 0.22448131 0.1799908  0.9850557 ]\n",
            "I0725 11:53:07.820483 140501020903296 detect.py:61] \tperson, 0.986672043800354, [0.40061775 0.17155054 0.5801739  0.9901098 ]\n",
            "I0725 11:53:07.821506 140501020903296 detect.py:61] \tperson, 0.970364511013031, [0.7601218  0.20852247 0.94232297 0.99610996]\n",
            "I0725 11:53:07.822516 140501020903296 detect.py:61] \tperson, 0.925633430480957, [0.5743668 0.1715171 0.7521651 1.0159246]\n",
            "I0725 11:53:07.840846 140501020903296 detect.py:66] output saved to: ./output.jpg\n"
          ],
          "name": "stdout"
        }
      ]
    },
    {
      "cell_type": "code",
      "metadata": {
        "id": "PsBH1jPMdS4U"
      },
      "source": [
        ""
      ],
      "execution_count": 6,
      "outputs": []
    }
  ]
}