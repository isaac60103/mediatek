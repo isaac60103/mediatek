{
 "cells": [
  {
   "cell_type": "markdown",
   "metadata": {},
   "source": [
    "<table class=\"tfo-notebook-buttons\" align=\"left\">\n",
    "  <td>\n",
    "    <a target=\"_blank\" href=\"https://colab.research.google.com/github/isaac60103/mediatek/blob/main/06.ipynb\"><img src=\"https://www.tensorflow.org/images/colab_logo_32px.png\" />Run in Google Colab</a>\n",
    "  </td>\n",
    "  <td>\n",
    "    <a target=\"_blank\" href=\"https://github.com/isaac60103/mediatek/blob/main/06.ipynb\"><img src=\"https://www.tensorflow.org/images/GitHub-Mark-32px.png\" />View source on GitHub</a>\n",
    "  </td>\n",
    "</table>\n"
   ]
  },
  {
   "cell_type": "code",
   "execution_count": 1,
   "metadata": {
    "colab": {
     "base_uri": "https://localhost:8080/"
    },
    "id": "jptXMX5FXwfk",
    "outputId": "5b4aa6cc-7cb8-4f7b-ed84-79ed0cd8c3f3"
   },
   "outputs": [
    {
     "name": "stdout",
     "output_type": "stream",
     "text": [
      "Cloning into 'yolov3-tf2'...\n",
      "remote: Enumerating objects: 419, done.\u001b[K\n",
      "remote: Counting objects: 100% (7/7), done.\u001b[K\n",
      "remote: Compressing objects: 100% (7/7), done.\u001b[K\n",
      "remote: Total 419 (delta 2), reused 0 (delta 0), pack-reused 412\u001b[K\n",
      "Receiving objects: 100% (419/419), 4.24 MiB | 37.09 MiB/s, done.\n",
      "Resolving deltas: 100% (239/239), done.\n"
     ]
    }
   ],
   "source": [
    "!git clone https://github.com/zzh8829/yolov3-tf2.git"
   ]
  },
  {
   "cell_type": "code",
   "execution_count": 3,
   "metadata": {
    "colab": {
     "base_uri": "https://localhost:8080/"
    },
    "id": "UTLrE84uX3jV",
    "outputId": "b1efcc1f-58ff-4285-f99e-638bd27ffae9"
   },
   "outputs": [
    {
     "name": "stdout",
     "output_type": "stream",
     "text": [
      "--2021-07-24 02:37:50--  https://pjreddie.com/media/files/yolov3.weights\n",
      "Resolving pjreddie.com (pjreddie.com)... 128.208.4.108\n",
      "Connecting to pjreddie.com (pjreddie.com)|128.208.4.108|:443... connected.\n",
      "HTTP request sent, awaiting response... 200 OK\n",
      "Length: 248007048 (237M) [application/octet-stream]\n",
      "Saving to: ‘./yolov3-tf2/data/yolov3.weights’\n",
      "\n",
      "./yolov3-tf2/data/y 100%[===================>] 236.52M  46.7MB/s    in 5.4s    \n",
      "\n",
      "2021-07-24 02:37:56 (43.6 MB/s) - ‘./yolov3-tf2/data/yolov3.weights’ saved [248007048/248007048]\n",
      "\n"
     ]
    }
   ],
   "source": [
    "!wget https://pjreddie.com/media/files/yolov3.weights -O ./yolov3-tf2/data/yolov3.weights"
   ]
  },
  {
   "cell_type": "code",
   "execution_count": 13,
   "metadata": {
    "colab": {
     "base_uri": "https://localhost:8080/"
    },
    "id": "nXzhUj3faNrX",
    "outputId": "189cd8c6-3963-48b3-803a-3f3035b31cfc"
   },
   "outputs": [
    {
     "name": "stdout",
     "output_type": "stream",
     "text": [
      "2021-07-24 02:47:39.564126: I tensorflow/stream_executor/platform/default/dso_loader.cc:53] Successfully opened dynamic library libcudart.so.11.0\n",
      "2021-07-24 02:47:41.025081: I tensorflow/stream_executor/platform/default/dso_loader.cc:53] Successfully opened dynamic library libcuda.so.1\n",
      "2021-07-24 02:47:41.055007: I tensorflow/stream_executor/cuda/cuda_gpu_executor.cc:937] successful NUMA node read from SysFS had negative value (-1), but there must be at least one NUMA node, so returning NUMA node zero\n",
      "2021-07-24 02:47:41.055704: I tensorflow/core/common_runtime/gpu/gpu_device.cc:1733] Found device 0 with properties: \n",
      "pciBusID: 0000:00:04.0 name: Tesla T4 computeCapability: 7.5\n",
      "coreClock: 1.59GHz coreCount: 40 deviceMemorySize: 14.75GiB deviceMemoryBandwidth: 298.08GiB/s\n",
      "2021-07-24 02:47:41.055755: I tensorflow/stream_executor/platform/default/dso_loader.cc:53] Successfully opened dynamic library libcudart.so.11.0\n",
      "2021-07-24 02:47:41.058686: I tensorflow/stream_executor/platform/default/dso_loader.cc:53] Successfully opened dynamic library libcublas.so.11\n",
      "2021-07-24 02:47:41.058760: I tensorflow/stream_executor/platform/default/dso_loader.cc:53] Successfully opened dynamic library libcublasLt.so.11\n",
      "2021-07-24 02:47:41.060552: I tensorflow/stream_executor/platform/default/dso_loader.cc:53] Successfully opened dynamic library libcufft.so.10\n",
      "2021-07-24 02:47:41.063028: I tensorflow/stream_executor/platform/default/dso_loader.cc:53] Successfully opened dynamic library libcurand.so.10\n",
      "2021-07-24 02:47:41.064857: I tensorflow/stream_executor/platform/default/dso_loader.cc:53] Successfully opened dynamic library libcusolver.so.10\n",
      "2021-07-24 02:47:41.065554: I tensorflow/stream_executor/platform/default/dso_loader.cc:53] Successfully opened dynamic library libcusparse.so.11\n",
      "2021-07-24 02:47:41.065740: I tensorflow/stream_executor/platform/default/dso_loader.cc:53] Successfully opened dynamic library libcudnn.so.8\n",
      "2021-07-24 02:47:41.065842: I tensorflow/stream_executor/cuda/cuda_gpu_executor.cc:937] successful NUMA node read from SysFS had negative value (-1), but there must be at least one NUMA node, so returning NUMA node zero\n",
      "2021-07-24 02:47:41.066417: I tensorflow/stream_executor/cuda/cuda_gpu_executor.cc:937] successful NUMA node read from SysFS had negative value (-1), but there must be at least one NUMA node, so returning NUMA node zero\n",
      "2021-07-24 02:47:41.066941: I tensorflow/core/common_runtime/gpu/gpu_device.cc:1871] Adding visible gpu devices: 0\n",
      "2021-07-24 02:47:41.078017: I tensorflow/stream_executor/cuda/cuda_gpu_executor.cc:937] successful NUMA node read from SysFS had negative value (-1), but there must be at least one NUMA node, so returning NUMA node zero\n",
      "2021-07-24 02:47:41.078558: I tensorflow/core/common_runtime/gpu/gpu_device.cc:1733] Found device 0 with properties: \n",
      "pciBusID: 0000:00:04.0 name: Tesla T4 computeCapability: 7.5\n",
      "coreClock: 1.59GHz coreCount: 40 deviceMemorySize: 14.75GiB deviceMemoryBandwidth: 298.08GiB/s\n",
      "2021-07-24 02:47:41.078645: I tensorflow/stream_executor/cuda/cuda_gpu_executor.cc:937] successful NUMA node read from SysFS had negative value (-1), but there must be at least one NUMA node, so returning NUMA node zero\n",
      "2021-07-24 02:47:41.079189: I tensorflow/stream_executor/cuda/cuda_gpu_executor.cc:937] successful NUMA node read from SysFS had negative value (-1), but there must be at least one NUMA node, so returning NUMA node zero\n",
      "2021-07-24 02:47:41.079702: I tensorflow/core/common_runtime/gpu/gpu_device.cc:1871] Adding visible gpu devices: 0\n",
      "2021-07-24 02:47:41.079754: I tensorflow/stream_executor/platform/default/dso_loader.cc:53] Successfully opened dynamic library libcudart.so.11.0\n",
      "2021-07-24 02:47:41.695174: I tensorflow/core/common_runtime/gpu/gpu_device.cc:1258] Device interconnect StreamExecutor with strength 1 edge matrix:\n",
      "2021-07-24 02:47:41.695223: I tensorflow/core/common_runtime/gpu/gpu_device.cc:1264]      0 \n",
      "2021-07-24 02:47:41.695242: I tensorflow/core/common_runtime/gpu/gpu_device.cc:1277] 0:   N \n",
      "2021-07-24 02:47:41.695420: I tensorflow/stream_executor/cuda/cuda_gpu_executor.cc:937] successful NUMA node read from SysFS had negative value (-1), but there must be at least one NUMA node, so returning NUMA node zero\n",
      "2021-07-24 02:47:41.696149: I tensorflow/stream_executor/cuda/cuda_gpu_executor.cc:937] successful NUMA node read from SysFS had negative value (-1), but there must be at least one NUMA node, so returning NUMA node zero\n",
      "2021-07-24 02:47:41.696795: I tensorflow/stream_executor/cuda/cuda_gpu_executor.cc:937] successful NUMA node read from SysFS had negative value (-1), but there must be at least one NUMA node, so returning NUMA node zero\n",
      "2021-07-24 02:47:41.697422: I tensorflow/core/common_runtime/gpu/gpu_device.cc:1418] Created TensorFlow device (/job:localhost/replica:0/task:0/device:GPU:0 with 13837 MB memory) -> physical GPU (device: 0, name: Tesla T4, pci bus id: 0000:00:04.0, compute capability: 7.5)\n",
      "WARNING:tensorflow:From /usr/local/lib/python3.7/dist-packages/tensorflow/python/ops/array_ops.py:5049: calling gather (from tensorflow.python.ops.array_ops) with validate_indices is deprecated and will be removed in a future version.\n",
      "Instructions for updating:\n",
      "The `validate_indices` argument has no effect. Indices are always validated on CPU and never validated on GPU.\n",
      "W0724 02:47:43.410714 140314163668864 deprecation.py:534] From /usr/local/lib/python3.7/dist-packages/tensorflow/python/ops/array_ops.py:5049: calling gather (from tensorflow.python.ops.array_ops) with validate_indices is deprecated and will be removed in a future version.\n",
      "Instructions for updating:\n",
      "The `validate_indices` argument has no effect. Indices are always validated on CPU and never validated on GPU.\n",
      "Model: \"yolov3\"\n",
      "__________________________________________________________________________________________________\n",
      "Layer (type)                    Output Shape         Param #     Connected to                     \n",
      "==================================================================================================\n",
      "input (InputLayer)              [(None, None, None,  0                                            \n",
      "__________________________________________________________________________________________________\n",
      "yolo_darknet (Functional)       ((None, None, None,  40620640    input[0][0]                      \n",
      "__________________________________________________________________________________________________\n",
      "yolo_conv_0 (Functional)        (None, None, None, 5 11024384    yolo_darknet[0][2]               \n",
      "__________________________________________________________________________________________________\n",
      "yolo_conv_1 (Functional)        (None, None, None, 2 2957312     yolo_conv_0[0][0]                \n",
      "                                                                 yolo_darknet[0][1]               \n",
      "__________________________________________________________________________________________________\n",
      "yolo_conv_2 (Functional)        (None, None, None, 1 741376      yolo_conv_1[0][0]                \n",
      "                                                                 yolo_darknet[0][0]               \n",
      "__________________________________________________________________________________________________\n",
      "yolo_output_0 (Functional)      (None, None, None, 3 4984063     yolo_conv_0[0][0]                \n",
      "__________________________________________________________________________________________________\n",
      "yolo_output_1 (Functional)      (None, None, None, 3 1312511     yolo_conv_1[0][0]                \n",
      "__________________________________________________________________________________________________\n",
      "yolo_output_2 (Functional)      (None, None, None, 3 361471      yolo_conv_2[0][0]                \n",
      "__________________________________________________________________________________________________\n",
      "yolo_boxes_0 (Lambda)           ((None, None, None,  0           yolo_output_0[0][0]              \n",
      "__________________________________________________________________________________________________\n",
      "yolo_boxes_1 (Lambda)           ((None, None, None,  0           yolo_output_1[0][0]              \n",
      "__________________________________________________________________________________________________\n",
      "yolo_boxes_2 (Lambda)           ((None, None, None,  0           yolo_output_2[0][0]              \n",
      "__________________________________________________________________________________________________\n",
      "yolo_nms (Lambda)               ((1, None, 4), (1, N 0           yolo_boxes_0[0][0]               \n",
      "                                                                 yolo_boxes_0[0][1]               \n",
      "                                                                 yolo_boxes_0[0][2]               \n",
      "                                                                 yolo_boxes_1[0][0]               \n",
      "                                                                 yolo_boxes_1[0][1]               \n",
      "                                                                 yolo_boxes_1[0][2]               \n",
      "                                                                 yolo_boxes_2[0][0]               \n",
      "                                                                 yolo_boxes_2[0][1]               \n",
      "                                                                 yolo_boxes_2[0][2]               \n",
      "==================================================================================================\n",
      "Total params: 62,001,757\n",
      "Trainable params: 61,949,149\n",
      "Non-trainable params: 52,608\n",
      "__________________________________________________________________________________________________\n",
      "I0724 02:47:43.436592 140314163668864 convert.py:24] model created\n",
      "I0724 02:47:43.437688 140314163668864 utils.py:45] yolo_darknet/conv2d bn\n",
      "I0724 02:47:43.440073 140314163668864 utils.py:45] yolo_darknet/conv2d_1 bn\n",
      "I0724 02:47:43.442327 140314163668864 utils.py:45] yolo_darknet/conv2d_2 bn\n",
      "I0724 02:47:43.444534 140314163668864 utils.py:45] yolo_darknet/conv2d_3 bn\n",
      "I0724 02:47:43.446811 140314163668864 utils.py:45] yolo_darknet/conv2d_4 bn\n",
      "I0724 02:47:43.449446 140314163668864 utils.py:45] yolo_darknet/conv2d_5 bn\n",
      "I0724 02:47:43.451619 140314163668864 utils.py:45] yolo_darknet/conv2d_6 bn\n",
      "I0724 02:47:43.453984 140314163668864 utils.py:45] yolo_darknet/conv2d_7 bn\n",
      "I0724 02:47:43.456147 140314163668864 utils.py:45] yolo_darknet/conv2d_8 bn\n",
      "I0724 02:47:43.458677 140314163668864 utils.py:45] yolo_darknet/conv2d_9 bn\n",
      "I0724 02:47:43.463594 140314163668864 utils.py:45] yolo_darknet/conv2d_10 bn\n",
      "I0724 02:47:43.466114 140314163668864 utils.py:45] yolo_darknet/conv2d_11 bn\n",
      "I0724 02:47:43.470085 140314163668864 utils.py:45] yolo_darknet/conv2d_12 bn\n",
      "I0724 02:47:43.472403 140314163668864 utils.py:45] yolo_darknet/conv2d_13 bn\n",
      "I0724 02:47:43.476067 140314163668864 utils.py:45] yolo_darknet/conv2d_14 bn\n",
      "I0724 02:47:43.478309 140314163668864 utils.py:45] yolo_darknet/conv2d_15 bn\n",
      "I0724 02:47:43.481874 140314163668864 utils.py:45] yolo_darknet/conv2d_16 bn\n",
      "I0724 02:47:43.484150 140314163668864 utils.py:45] yolo_darknet/conv2d_17 bn\n",
      "I0724 02:47:43.487689 140314163668864 utils.py:45] yolo_darknet/conv2d_18 bn\n",
      "I0724 02:47:43.490018 140314163668864 utils.py:45] yolo_darknet/conv2d_19 bn\n",
      "I0724 02:47:43.493844 140314163668864 utils.py:45] yolo_darknet/conv2d_20 bn\n",
      "I0724 02:47:43.496429 140314163668864 utils.py:45] yolo_darknet/conv2d_21 bn\n",
      "I0724 02:47:43.500208 140314163668864 utils.py:45] yolo_darknet/conv2d_22 bn\n",
      "I0724 02:47:43.502825 140314163668864 utils.py:45] yolo_darknet/conv2d_23 bn\n",
      "I0724 02:47:43.506759 140314163668864 utils.py:45] yolo_darknet/conv2d_24 bn\n",
      "I0724 02:47:43.509280 140314163668864 utils.py:45] yolo_darknet/conv2d_25 bn\n",
      "I0724 02:47:43.513479 140314163668864 utils.py:45] yolo_darknet/conv2d_26 bn\n",
      "I0724 02:47:43.524909 140314163668864 utils.py:45] yolo_darknet/conv2d_27 bn\n",
      "I0724 02:47:43.528120 140314163668864 utils.py:45] yolo_darknet/conv2d_28 bn\n",
      "I0724 02:47:43.536232 140314163668864 utils.py:45] yolo_darknet/conv2d_29 bn\n",
      "I0724 02:47:43.539378 140314163668864 utils.py:45] yolo_darknet/conv2d_30 bn\n",
      "I0724 02:47:43.547312 140314163668864 utils.py:45] yolo_darknet/conv2d_31 bn\n",
      "I0724 02:47:43.550079 140314163668864 utils.py:45] yolo_darknet/conv2d_32 bn\n",
      "I0724 02:47:43.557524 140314163668864 utils.py:45] yolo_darknet/conv2d_33 bn\n",
      "I0724 02:47:43.560283 140314163668864 utils.py:45] yolo_darknet/conv2d_34 bn\n",
      "I0724 02:47:43.567893 140314163668864 utils.py:45] yolo_darknet/conv2d_35 bn\n",
      "I0724 02:47:43.570935 140314163668864 utils.py:45] yolo_darknet/conv2d_36 bn\n",
      "I0724 02:47:43.578877 140314163668864 utils.py:45] yolo_darknet/conv2d_37 bn\n",
      "I0724 02:47:43.581622 140314163668864 utils.py:45] yolo_darknet/conv2d_38 bn\n",
      "I0724 02:47:43.588883 140314163668864 utils.py:45] yolo_darknet/conv2d_39 bn\n",
      "I0724 02:47:43.591537 140314163668864 utils.py:45] yolo_darknet/conv2d_40 bn\n",
      "I0724 02:47:43.599021 140314163668864 utils.py:45] yolo_darknet/conv2d_41 bn\n",
      "I0724 02:47:43.602082 140314163668864 utils.py:45] yolo_darknet/conv2d_42 bn\n",
      "I0724 02:47:43.609753 140314163668864 utils.py:45] yolo_darknet/conv2d_43 bn\n",
      "I0724 02:47:43.648473 140314163668864 utils.py:45] yolo_darknet/conv2d_44 bn\n",
      "I0724 02:47:43.656811 140314163668864 utils.py:45] yolo_darknet/conv2d_45 bn\n",
      "I0724 02:47:43.686880 140314163668864 utils.py:45] yolo_darknet/conv2d_46 bn\n",
      "I0724 02:47:43.693173 140314163668864 utils.py:45] yolo_darknet/conv2d_47 bn\n",
      "I0724 02:47:43.724874 140314163668864 utils.py:45] yolo_darknet/conv2d_48 bn\n",
      "I0724 02:47:43.731296 140314163668864 utils.py:45] yolo_darknet/conv2d_49 bn\n",
      "I0724 02:47:43.761650 140314163668864 utils.py:45] yolo_darknet/conv2d_50 bn\n",
      "I0724 02:47:43.767741 140314163668864 utils.py:45] yolo_darknet/conv2d_51 bn\n",
      "I0724 02:47:43.796260 140314163668864 utils.py:45] yolo_conv_0/conv2d_52 bn\n",
      "I0724 02:47:43.801835 140314163668864 utils.py:45] yolo_conv_0/conv2d_53 bn\n",
      "I0724 02:47:43.829860 140314163668864 utils.py:45] yolo_conv_0/conv2d_54 bn\n",
      "I0724 02:47:43.838513 140314163668864 utils.py:45] yolo_conv_0/conv2d_55 bn\n",
      "I0724 02:47:43.868257 140314163668864 utils.py:45] yolo_conv_0/conv2d_56 bn\n",
      "I0724 02:47:43.874112 140314163668864 utils.py:45] yolo_output_0/conv2d_57 bn\n",
      "I0724 02:47:43.903588 140314163668864 utils.py:45] yolo_output_0/conv2d_58 bias\n",
      "I0724 02:47:43.906231 140314163668864 utils.py:45] yolo_conv_1/conv2d_59 bn\n",
      "I0724 02:47:43.908680 140314163668864 utils.py:45] yolo_conv_1/conv2d_60 bn\n",
      "I0724 02:47:43.911288 140314163668864 utils.py:45] yolo_conv_1/conv2d_61 bn\n",
      "I0724 02:47:43.918328 140314163668864 utils.py:45] yolo_conv_1/conv2d_62 bn\n",
      "I0724 02:47:43.920710 140314163668864 utils.py:45] yolo_conv_1/conv2d_63 bn\n",
      "I0724 02:47:43.928001 140314163668864 utils.py:45] yolo_conv_1/conv2d_64 bn\n",
      "I0724 02:47:43.930553 140314163668864 utils.py:45] yolo_output_1/conv2d_65 bn\n",
      "I0724 02:47:43.937979 140314163668864 utils.py:45] yolo_output_1/conv2d_66 bias\n",
      "I0724 02:47:43.939705 140314163668864 utils.py:45] yolo_conv_2/conv2d_67 bn\n",
      "I0724 02:47:43.941838 140314163668864 utils.py:45] yolo_conv_2/conv2d_68 bn\n",
      "I0724 02:47:43.943919 140314163668864 utils.py:45] yolo_conv_2/conv2d_69 bn\n",
      "I0724 02:47:43.947261 140314163668864 utils.py:45] yolo_conv_2/conv2d_70 bn\n",
      "I0724 02:47:43.949329 140314163668864 utils.py:45] yolo_conv_2/conv2d_71 bn\n",
      "I0724 02:47:43.952782 140314163668864 utils.py:45] yolo_conv_2/conv2d_72 bn\n",
      "I0724 02:47:43.954805 140314163668864 utils.py:45] yolo_output_2/conv2d_73 bn\n",
      "I0724 02:47:43.958117 140314163668864 utils.py:45] yolo_output_2/conv2d_74 bias\n",
      "I0724 02:47:43.959645 140314163668864 convert.py:27] weights loaded\n",
      "2021-07-24 02:47:43.977293: I tensorflow/stream_executor/platform/default/dso_loader.cc:53] Successfully opened dynamic library libcudnn.so.8\n",
      "2021-07-24 02:47:46.189038: I tensorflow/stream_executor/cuda/cuda_dnn.cc:359] Loaded cuDNN version 8004\n",
      "2021-07-24 02:48:10.445660: I tensorflow/stream_executor/platform/default/dso_loader.cc:53] Successfully opened dynamic library libcublas.so.11\n",
      "2021-07-24 02:48:12.971626: I tensorflow/stream_executor/platform/default/dso_loader.cc:53] Successfully opened dynamic library libcublasLt.so.11\n",
      "I0724 02:48:13.913684 140314163668864 convert.py:31] sanity check passed\n",
      "I0724 02:48:14.658943 140314163668864 convert.py:34] weights saved\n"
     ]
    }
   ],
   "source": [
    "!python ./yolov3-tf2/convert.py --weights ./yolov3-tf2/data/yolov3.weights --output ./yolov3-tf2/checkpoints/yolov3.tf"
   ]
  },
  {
   "cell_type": "code",
   "execution_count": 19,
   "metadata": {
    "colab": {
     "base_uri": "https://localhost:8080/"
    },
    "id": "_9ygVcngYLqT",
    "outputId": "fa77b577-55cc-43ac-c42a-83aa7e233023"
   },
   "outputs": [
    {
     "name": "stdout",
     "output_type": "stream",
     "text": [
      "2021-07-24 02:56:56.899978: I tensorflow/stream_executor/platform/default/dso_loader.cc:53] Successfully opened dynamic library libcudart.so.11.0\n",
      "2021-07-24 02:56:58.242373: I tensorflow/stream_executor/platform/default/dso_loader.cc:53] Successfully opened dynamic library libcuda.so.1\n",
      "2021-07-24 02:56:58.269938: I tensorflow/stream_executor/cuda/cuda_gpu_executor.cc:937] successful NUMA node read from SysFS had negative value (-1), but there must be at least one NUMA node, so returning NUMA node zero\n",
      "2021-07-24 02:56:58.270505: I tensorflow/core/common_runtime/gpu/gpu_device.cc:1733] Found device 0 with properties: \n",
      "pciBusID: 0000:00:04.0 name: Tesla T4 computeCapability: 7.5\n",
      "coreClock: 1.59GHz coreCount: 40 deviceMemorySize: 14.75GiB deviceMemoryBandwidth: 298.08GiB/s\n",
      "2021-07-24 02:56:58.270552: I tensorflow/stream_executor/platform/default/dso_loader.cc:53] Successfully opened dynamic library libcudart.so.11.0\n",
      "2021-07-24 02:56:58.273081: I tensorflow/stream_executor/platform/default/dso_loader.cc:53] Successfully opened dynamic library libcublas.so.11\n",
      "2021-07-24 02:56:58.273155: I tensorflow/stream_executor/platform/default/dso_loader.cc:53] Successfully opened dynamic library libcublasLt.so.11\n",
      "2021-07-24 02:56:58.274825: I tensorflow/stream_executor/platform/default/dso_loader.cc:53] Successfully opened dynamic library libcufft.so.10\n",
      "2021-07-24 02:56:58.275200: I tensorflow/stream_executor/platform/default/dso_loader.cc:53] Successfully opened dynamic library libcurand.so.10\n",
      "2021-07-24 02:56:58.277086: I tensorflow/stream_executor/platform/default/dso_loader.cc:53] Successfully opened dynamic library libcusolver.so.10\n",
      "2021-07-24 02:56:58.277798: I tensorflow/stream_executor/platform/default/dso_loader.cc:53] Successfully opened dynamic library libcusparse.so.11\n",
      "2021-07-24 02:56:58.277984: I tensorflow/stream_executor/platform/default/dso_loader.cc:53] Successfully opened dynamic library libcudnn.so.8\n",
      "2021-07-24 02:56:58.278083: I tensorflow/stream_executor/cuda/cuda_gpu_executor.cc:937] successful NUMA node read from SysFS had negative value (-1), but there must be at least one NUMA node, so returning NUMA node zero\n",
      "2021-07-24 02:56:58.278694: I tensorflow/stream_executor/cuda/cuda_gpu_executor.cc:937] successful NUMA node read from SysFS had negative value (-1), but there must be at least one NUMA node, so returning NUMA node zero\n",
      "2021-07-24 02:56:58.279214: I tensorflow/core/common_runtime/gpu/gpu_device.cc:1871] Adding visible gpu devices: 0\n",
      "2021-07-24 02:56:58.290692: I tensorflow/stream_executor/cuda/cuda_gpu_executor.cc:937] successful NUMA node read from SysFS had negative value (-1), but there must be at least one NUMA node, so returning NUMA node zero\n",
      "2021-07-24 02:56:58.291244: I tensorflow/core/common_runtime/gpu/gpu_device.cc:1733] Found device 0 with properties: \n",
      "pciBusID: 0000:00:04.0 name: Tesla T4 computeCapability: 7.5\n",
      "coreClock: 1.59GHz coreCount: 40 deviceMemorySize: 14.75GiB deviceMemoryBandwidth: 298.08GiB/s\n",
      "2021-07-24 02:56:58.291322: I tensorflow/stream_executor/cuda/cuda_gpu_executor.cc:937] successful NUMA node read from SysFS had negative value (-1), but there must be at least one NUMA node, so returning NUMA node zero\n",
      "2021-07-24 02:56:58.291870: I tensorflow/stream_executor/cuda/cuda_gpu_executor.cc:937] successful NUMA node read from SysFS had negative value (-1), but there must be at least one NUMA node, so returning NUMA node zero\n",
      "2021-07-24 02:56:58.292373: I tensorflow/core/common_runtime/gpu/gpu_device.cc:1871] Adding visible gpu devices: 0\n",
      "2021-07-24 02:56:58.292423: I tensorflow/stream_executor/platform/default/dso_loader.cc:53] Successfully opened dynamic library libcudart.so.11.0\n",
      "2021-07-24 02:56:58.881116: I tensorflow/core/common_runtime/gpu/gpu_device.cc:1258] Device interconnect StreamExecutor with strength 1 edge matrix:\n",
      "2021-07-24 02:56:58.881173: I tensorflow/core/common_runtime/gpu/gpu_device.cc:1264]      0 \n",
      "2021-07-24 02:56:58.881189: I tensorflow/core/common_runtime/gpu/gpu_device.cc:1277] 0:   N \n",
      "2021-07-24 02:56:58.881351: I tensorflow/stream_executor/cuda/cuda_gpu_executor.cc:937] successful NUMA node read from SysFS had negative value (-1), but there must be at least one NUMA node, so returning NUMA node zero\n",
      "2021-07-24 02:56:58.881981: I tensorflow/stream_executor/cuda/cuda_gpu_executor.cc:937] successful NUMA node read from SysFS had negative value (-1), but there must be at least one NUMA node, so returning NUMA node zero\n",
      "2021-07-24 02:56:58.882525: I tensorflow/stream_executor/cuda/cuda_gpu_executor.cc:937] successful NUMA node read from SysFS had negative value (-1), but there must be at least one NUMA node, so returning NUMA node zero\n",
      "2021-07-24 02:56:58.883064: I tensorflow/core/common_runtime/gpu/gpu_device.cc:1418] Created TensorFlow device (/job:localhost/replica:0/task:0/device:GPU:0 with 13837 MB memory) -> physical GPU (device: 0, name: Tesla T4, pci bus id: 0000:00:04.0, compute capability: 7.5)\n",
      "WARNING:tensorflow:From /usr/local/lib/python3.7/dist-packages/tensorflow/python/ops/array_ops.py:5049: calling gather (from tensorflow.python.ops.array_ops) with validate_indices is deprecated and will be removed in a future version.\n",
      "Instructions for updating:\n",
      "The `validate_indices` argument has no effect. Indices are always validated on CPU and never validated on GPU.\n",
      "W0724 02:57:00.554089 139848666605440 deprecation.py:534] From /usr/local/lib/python3.7/dist-packages/tensorflow/python/ops/array_ops.py:5049: calling gather (from tensorflow.python.ops.array_ops) with validate_indices is deprecated and will be removed in a future version.\n",
      "Instructions for updating:\n",
      "The `validate_indices` argument has no effect. Indices are always validated on CPU and never validated on GPU.\n",
      "I0724 02:57:01.488663 139848666605440 detect.py:35] weights loaded\n",
      "I0724 02:57:01.489011 139848666605440 detect.py:38] classes loaded\n",
      "2021-07-24 02:57:01.530629: I tensorflow/stream_executor/platform/default/dso_loader.cc:53] Successfully opened dynamic library libcudnn.so.8\n",
      "2021-07-24 02:57:01.970124: I tensorflow/stream_executor/cuda/cuda_dnn.cc:359] Loaded cuDNN version 8004\n",
      "2021-07-24 02:57:02.853858: I tensorflow/stream_executor/platform/default/dso_loader.cc:53] Successfully opened dynamic library libcublas.so.11\n",
      "2021-07-24 02:57:03.322689: I tensorflow/stream_executor/platform/default/dso_loader.cc:53] Successfully opened dynamic library libcublasLt.so.11\n",
      "I0724 02:57:04.057347 139848666605440 detect.py:55] time: 2.5285708904266357\n",
      "I0724 02:57:04.057525 139848666605440 detect.py:57] detections:\n",
      "I0724 02:57:04.060039 139848666605440 detect.py:61] \tcup, 0.9980731010437012, [0.14266218 0.52777606 0.27184254 0.65748256]\n",
      "I0724 02:57:04.061548 139848666605440 detect.py:61] \tperson, 0.9976975321769714, [0.2898292 0.0985465 0.9584648 0.9202168]\n",
      "I0724 02:57:04.062977 139848666605440 detect.py:61] \tlaptop, 0.9599869847297668, [-0.01710659  0.39493692  0.5229728   0.7962775 ]\n",
      "I0724 02:57:04.064390 139848666605440 detect.py:61] \tapple, 0.9081627726554871, [0.13114461 0.77143586 0.22893354 0.90729535]\n",
      "I0724 02:57:04.065801 139848666605440 detect.py:61] \tcell phone, 0.7321376204490662, [0.18850097 0.87569416 0.3350185  0.9422209 ]\n",
      "I0724 02:57:04.067176 139848666605440 detect.py:61] \tclock, 0.6700009703636169, [0.4010809  0.21244612 0.49267417 0.35021505]\n",
      "I0724 02:57:04.068548 139848666605440 detect.py:61] \tcup, 0.5366388559341431, [0.1508823  0.52855617 0.25541586 0.66439587]\n",
      "I0724 02:57:04.070216 139848666605440 detect.py:61] \tchair, 0.5001124739646912, [0.29507312 0.30677184 0.99988604 0.9955944 ]\n",
      "I0724 02:57:04.212835 139848666605440 detect.py:66] output saved to: ./output.jpg\n"
     ]
    }
   ],
   "source": [
    "!python ./yolov3-tf2/detect.py --weights ./yolov3-tf2/checkpoints/yolov3.tf --image ./yolov3-tf2/data/meme.jpg --classes ./yolov3-tf2/data/coco.names"
   ]
  },
  {
   "cell_type": "code",
   "execution_count": 24,
   "metadata": {
    "colab": {
     "base_uri": "https://localhost:8080/"
    },
    "id": "ZeUDZptVc84u",
    "outputId": "ac2eafa9-2373-4e26-b7ac-eb0e3a25b2df"
   },
   "outputs": [
    {
     "name": "stdout",
     "output_type": "stream",
     "text": [
      "--2021-07-24 03:01:26--  https://pgw.udn.com.tw/gw/photo.php?u=https://uc.udn.com.tw/photo/2020/12/24/realtime/9945153.jpg\n",
      "Resolving pgw.udn.com.tw (pgw.udn.com.tw)... 152.199.5.110\n",
      "Connecting to pgw.udn.com.tw (pgw.udn.com.tw)|152.199.5.110|:443... connected.\n",
      "HTTP request sent, awaiting response... 200 OK\n",
      "Length: unspecified [image/jpeg]\n",
      "Saving to: ‘./may.jpg’\n",
      "\n",
      "./may.jpg               [ <=>                ]  66.01K  --.-KB/s    in 0.02s   \n",
      "\n",
      "2021-07-24 03:01:26 (3.57 MB/s) - ‘./may.jpg’ saved [67597]\n",
      "\n"
     ]
    }
   ],
   "source": [
    "!wget -O ./may.jpg https://pgw.udn.com.tw/gw/photo.php?u=https://uc.udn.com.tw/photo/2020/12/24/realtime/9945153.jpg&x=0&y=0&sw=0&sh=0&sl=W&fw=1050"
   ]
  },
  {
   "cell_type": "code",
   "execution_count": 25,
   "metadata": {
    "colab": {
     "base_uri": "https://localhost:8080/"
    },
    "id": "HrPp7kjEYcQp",
    "outputId": "0110876d-b6e5-4fc6-d477-828d619e15ed"
   },
   "outputs": [
    {
     "name": "stdout",
     "output_type": "stream",
     "text": [
      "2021-07-24 03:01:39.201681: I tensorflow/stream_executor/platform/default/dso_loader.cc:53] Successfully opened dynamic library libcudart.so.11.0\n",
      "2021-07-24 03:01:40.660616: I tensorflow/stream_executor/platform/default/dso_loader.cc:53] Successfully opened dynamic library libcuda.so.1\n",
      "2021-07-24 03:01:40.695666: I tensorflow/stream_executor/cuda/cuda_gpu_executor.cc:937] successful NUMA node read from SysFS had negative value (-1), but there must be at least one NUMA node, so returning NUMA node zero\n",
      "2021-07-24 03:01:40.696282: I tensorflow/core/common_runtime/gpu/gpu_device.cc:1733] Found device 0 with properties: \n",
      "pciBusID: 0000:00:04.0 name: Tesla T4 computeCapability: 7.5\n",
      "coreClock: 1.59GHz coreCount: 40 deviceMemorySize: 14.75GiB deviceMemoryBandwidth: 298.08GiB/s\n",
      "2021-07-24 03:01:40.696330: I tensorflow/stream_executor/platform/default/dso_loader.cc:53] Successfully opened dynamic library libcudart.so.11.0\n",
      "2021-07-24 03:01:40.698895: I tensorflow/stream_executor/platform/default/dso_loader.cc:53] Successfully opened dynamic library libcublas.so.11\n",
      "2021-07-24 03:01:40.698977: I tensorflow/stream_executor/platform/default/dso_loader.cc:53] Successfully opened dynamic library libcublasLt.so.11\n",
      "2021-07-24 03:01:40.700619: I tensorflow/stream_executor/platform/default/dso_loader.cc:53] Successfully opened dynamic library libcufft.so.10\n",
      "2021-07-24 03:01:40.700971: I tensorflow/stream_executor/platform/default/dso_loader.cc:53] Successfully opened dynamic library libcurand.so.10\n",
      "2021-07-24 03:01:40.702914: I tensorflow/stream_executor/platform/default/dso_loader.cc:53] Successfully opened dynamic library libcusolver.so.10\n",
      "2021-07-24 03:01:40.703731: I tensorflow/stream_executor/platform/default/dso_loader.cc:53] Successfully opened dynamic library libcusparse.so.11\n",
      "2021-07-24 03:01:40.703922: I tensorflow/stream_executor/platform/default/dso_loader.cc:53] Successfully opened dynamic library libcudnn.so.8\n",
      "2021-07-24 03:01:40.704032: I tensorflow/stream_executor/cuda/cuda_gpu_executor.cc:937] successful NUMA node read from SysFS had negative value (-1), but there must be at least one NUMA node, so returning NUMA node zero\n",
      "2021-07-24 03:01:40.704642: I tensorflow/stream_executor/cuda/cuda_gpu_executor.cc:937] successful NUMA node read from SysFS had negative value (-1), but there must be at least one NUMA node, so returning NUMA node zero\n",
      "2021-07-24 03:01:40.705146: I tensorflow/core/common_runtime/gpu/gpu_device.cc:1871] Adding visible gpu devices: 0\n",
      "2021-07-24 03:01:40.717981: I tensorflow/stream_executor/cuda/cuda_gpu_executor.cc:937] successful NUMA node read from SysFS had negative value (-1), but there must be at least one NUMA node, so returning NUMA node zero\n",
      "2021-07-24 03:01:40.718619: I tensorflow/core/common_runtime/gpu/gpu_device.cc:1733] Found device 0 with properties: \n",
      "pciBusID: 0000:00:04.0 name: Tesla T4 computeCapability: 7.5\n",
      "coreClock: 1.59GHz coreCount: 40 deviceMemorySize: 14.75GiB deviceMemoryBandwidth: 298.08GiB/s\n",
      "2021-07-24 03:01:40.718710: I tensorflow/stream_executor/cuda/cuda_gpu_executor.cc:937] successful NUMA node read from SysFS had negative value (-1), but there must be at least one NUMA node, so returning NUMA node zero\n",
      "2021-07-24 03:01:40.719328: I tensorflow/stream_executor/cuda/cuda_gpu_executor.cc:937] successful NUMA node read from SysFS had negative value (-1), but there must be at least one NUMA node, so returning NUMA node zero\n",
      "2021-07-24 03:01:40.719919: I tensorflow/core/common_runtime/gpu/gpu_device.cc:1871] Adding visible gpu devices: 0\n",
      "2021-07-24 03:01:40.719979: I tensorflow/stream_executor/platform/default/dso_loader.cc:53] Successfully opened dynamic library libcudart.so.11.0\n",
      "2021-07-24 03:01:41.353025: I tensorflow/core/common_runtime/gpu/gpu_device.cc:1258] Device interconnect StreamExecutor with strength 1 edge matrix:\n",
      "2021-07-24 03:01:41.353080: I tensorflow/core/common_runtime/gpu/gpu_device.cc:1264]      0 \n",
      "2021-07-24 03:01:41.353095: I tensorflow/core/common_runtime/gpu/gpu_device.cc:1277] 0:   N \n",
      "2021-07-24 03:01:41.353254: I tensorflow/stream_executor/cuda/cuda_gpu_executor.cc:937] successful NUMA node read from SysFS had negative value (-1), but there must be at least one NUMA node, so returning NUMA node zero\n",
      "2021-07-24 03:01:41.353879: I tensorflow/stream_executor/cuda/cuda_gpu_executor.cc:937] successful NUMA node read from SysFS had negative value (-1), but there must be at least one NUMA node, so returning NUMA node zero\n",
      "2021-07-24 03:01:41.354425: I tensorflow/stream_executor/cuda/cuda_gpu_executor.cc:937] successful NUMA node read from SysFS had negative value (-1), but there must be at least one NUMA node, so returning NUMA node zero\n",
      "2021-07-24 03:01:41.354987: I tensorflow/core/common_runtime/gpu/gpu_device.cc:1418] Created TensorFlow device (/job:localhost/replica:0/task:0/device:GPU:0 with 13837 MB memory) -> physical GPU (device: 0, name: Tesla T4, pci bus id: 0000:00:04.0, compute capability: 7.5)\n",
      "WARNING:tensorflow:From /usr/local/lib/python3.7/dist-packages/tensorflow/python/ops/array_ops.py:5049: calling gather (from tensorflow.python.ops.array_ops) with validate_indices is deprecated and will be removed in a future version.\n",
      "Instructions for updating:\n",
      "The `validate_indices` argument has no effect. Indices are always validated on CPU and never validated on GPU.\n",
      "W0724 03:01:43.196873 140483030034304 deprecation.py:534] From /usr/local/lib/python3.7/dist-packages/tensorflow/python/ops/array_ops.py:5049: calling gather (from tensorflow.python.ops.array_ops) with validate_indices is deprecated and will be removed in a future version.\n",
      "Instructions for updating:\n",
      "The `validate_indices` argument has no effect. Indices are always validated on CPU and never validated on GPU.\n",
      "I0724 03:01:44.176636 140483030034304 detect.py:35] weights loaded\n",
      "I0724 03:01:44.177052 140483030034304 detect.py:38] classes loaded\n",
      "2021-07-24 03:01:44.186923: I tensorflow/stream_executor/platform/default/dso_loader.cc:53] Successfully opened dynamic library libcudnn.so.8\n",
      "2021-07-24 03:01:44.650831: I tensorflow/stream_executor/cuda/cuda_dnn.cc:359] Loaded cuDNN version 8004\n",
      "2021-07-24 03:01:45.598235: I tensorflow/stream_executor/platform/default/dso_loader.cc:53] Successfully opened dynamic library libcublas.so.11\n",
      "2021-07-24 03:01:46.109805: I tensorflow/stream_executor/platform/default/dso_loader.cc:53] Successfully opened dynamic library libcublasLt.so.11\n",
      "I0724 03:01:46.873534 140483030034304 detect.py:55] time: 2.688450813293457\n",
      "I0724 03:01:46.873715 140483030034304 detect.py:57] detections:\n",
      "I0724 03:01:46.875445 140483030034304 detect.py:61] \tperson, 0.9978170394897461, [0.24406418 0.24213389 0.39527836 0.95390487]\n",
      "I0724 03:01:46.876846 140483030034304 detect.py:61] \tperson, 0.996798574924469, [0.01982393 0.22448146 0.1799908  0.98505557]\n",
      "I0724 03:01:46.878255 140483030034304 detect.py:61] \tperson, 0.9866719841957092, [0.40061772 0.17155045 0.5801738  0.99010986]\n",
      "I0724 03:01:46.879606 140483030034304 detect.py:61] \tperson, 0.9703646302223206, [0.7601219  0.20852241 0.942323   0.99610984]\n",
      "I0724 03:01:46.880970 140483030034304 detect.py:61] \tperson, 0.9256337285041809, [0.57436675 0.17151728 0.75216514 1.0159245 ]\n",
      "I0724 03:01:46.901475 140483030034304 detect.py:66] output saved to: ./output.jpg\n"
     ]
    }
   ],
   "source": [
    "!python ./yolov3-tf2/detect.py --weights ./yolov3-tf2/checkpoints/yolov3.tf --image ./may.jpg --classes ./yolov3-tf2/data/coco.names"
   ]
  },
  {
   "cell_type": "code",
   "execution_count": null,
   "metadata": {
    "id": "PsBH1jPMdS4U"
   },
   "outputs": [],
   "source": []
  }
 ],
 "metadata": {
  "accelerator": "GPU",
  "colab": {
   "collapsed_sections": [],
   "name": "Untitled11.ipynb",
   "provenance": []
  },
  "kernelspec": {
   "display_name": "Python 3",
   "language": "python",
   "name": "python3"
  },
  "language_info": {
   "codemirror_mode": {
    "name": "ipython",
    "version": 3
   },
   "file_extension": ".py",
   "mimetype": "text/x-python",
   "name": "python",
   "nbconvert_exporter": "python",
   "pygments_lexer": "ipython3",
   "version": "3.7.9"
  }
 },
 "nbformat": 4,
 "nbformat_minor": 1
}
