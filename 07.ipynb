{
  "nbformat": 4,
  "nbformat_minor": 0,
  "metadata": {
    "colab": {
      "name": "Untitled12.ipynb",
      "provenance": [],
      "collapsed_sections": []
    },
    "kernelspec": {
      "display_name": "Python 3",
      "language": "python",
      "name": "python3"
    },
    "language_info": {
      "codemirror_mode": {
        "name": "ipython",
        "version": 3
      },
      "file_extension": ".py",
      "mimetype": "text/x-python",
      "name": "python",
      "nbconvert_exporter": "python",
      "pygments_lexer": "ipython3",
      "version": "3.7.9"
    }
  },
  "cells": [
    {
      "cell_type": "markdown",
      "metadata": {
        "id": "v6P7An3pw5sa"
      },
      "source": [
        "<table class=\"tfo-notebook-buttons\" align=\"left\">\n",
        "  <td>\n",
        "    <a target=\"_blank\" href=\"https://colab.research.google.com/github/isaac60103/mediatek/blob/main/07.ipynb\"><img src=\"https://www.tensorflow.org/images/colab_logo_32px.png\" />Run in Google Colab</a>\n",
        "  </td>\n",
        "  <td>\n",
        "    <a target=\"_blank\" href=\"https://github.com/isaac60103/mediatek/blob/main/07.ipynb\"><img src=\"https://www.tensorflow.org/images/GitHub-Mark-32px.png\" />View source on GitHub</a>\n",
        "  </td>\n",
        "</table>\n"
      ]
    },
    {
      "cell_type": "code",
      "metadata": {
        "id": "rJBELBZpy0Mt",
        "outputId": "5080b27b-5ee1-4811-9ca7-da5170edf473",
        "colab": {
          "base_uri": "https://localhost:8080/"
        }
      },
      "source": [
        "!git clone https://github.com/Cartucho/mAP"
      ],
      "execution_count": 1,
      "outputs": [
        {
          "output_type": "stream",
          "text": [
            "Cloning into 'mAP'...\n",
            "remote: Enumerating objects: 908, done.\u001b[K\n",
            "remote: Total 908 (delta 0), reused 0 (delta 0), pack-reused 908\u001b[K\n",
            "Receiving objects: 100% (908/908), 14.71 MiB | 35.36 MiB/s, done.\n",
            "Resolving deltas: 100% (321/321), done.\n"
          ],
          "name": "stdout"
        }
      ]
    },
    {
      "cell_type": "code",
      "metadata": {
        "colab": {
          "base_uri": "https://localhost:8080/"
        },
        "id": "32QIUrfeujhA",
        "outputId": "992bdda1-dc78-4fca-b864-5872765fb5ff"
      },
      "source": [
        "!python ./mAP/main.py -na"
      ],
      "execution_count": 4,
      "outputs": [
        {
          "output_type": "stream",
          "text": [
            "22.73% = backpack AP \n",
            "85.94% = bed AP \n",
            "17.52% = book AP \n",
            "14.29% = bookcase AP \n",
            "23.48% = bottle AP \n",
            "31.86% = bowl AP \n",
            "7.93% = cabinetry AP \n",
            "53.84% = chair AP \n",
            "4.55% = coffeetable AP \n",
            "19.05% = countertop AP \n",
            "42.50% = cup AP \n",
            "39.66% = diningtable AP \n",
            "0.00% = doll AP \n",
            "20.69% = door AP \n",
            "7.69% = heater AP \n",
            "71.43% = nightstand AP \n",
            "42.86% = person AP \n",
            "17.71% = pictureframe AP \n",
            "13.01% = pillow AP \n",
            "62.31% = pottedplant AP \n",
            "73.21% = remote AP \n",
            "0.00% = shelf AP \n",
            "16.33% = sink AP \n",
            "90.48% = sofa AP \n",
            "1.39% = tap AP \n",
            "0.00% = tincan AP \n",
            "63.25% = tvmonitor AP \n",
            "18.75% = vase AP \n",
            "45.45% = wastecontainer AP \n",
            "23.53% = windowblind AP \n",
            "mAP = 31.05%\n",
            "<Figure size 640x630 with 1 Axes>\n"
          ],
          "name": "stdout"
        }
      ]
    },
    {
      "cell_type": "code",
      "metadata": {
        "id": "iboXn0IJuq0G"
      },
      "source": [
        ""
      ],
      "execution_count": 3,
      "outputs": []
    }
  ]
}